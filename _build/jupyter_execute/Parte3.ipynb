{
 "cells": [
  {
   "cell_type": "markdown",
   "id": "53fa54fe-0382-455d-b415-2a4d88749099",
   "metadata": {},
   "source": [
    "# Animaciones Parte 2"
   ]
  },
  {
   "cell_type": "code",
   "execution_count": 1,
   "id": "04da4c57-f5b0-452c-8b42-ad14cf0dab4a",
   "metadata": {},
   "outputs": [],
   "source": [
    "source(\"help.r\")"
   ]
  },
  {
   "cell_type": "code",
   "execution_count": 2,
   "id": "227026a3-a2ee-4b1b-aaae-9e6b0d6dcc1a",
   "metadata": {},
   "outputs": [
    {
     "data": {
      "image/png": "[encoded data removed]",
      "text/plain": [
       "plot without title"
      ]
     },
     "metadata": {
      "filenames": {
       "image/png": "C:\\Users\\Usuario\\Desktop\\Github\\50-Ejemplos-Graficos-con-R\\_build\\jupyter_execute\\Parte3_2_0.png"
      },
      "image/png": {
       "height": 420,
       "width": 300
      }
     },
     "output_type": "display_data"
    }
   ],
   "source": [
    "set.seed(4)\n",
    "dim.plot(5,7)\n",
    "par(bg = \"#F5F5F5\",omi=c(0,0,0,0),mai=c(0,0,0,0))\n",
    "\n",
    "x <- seq(1, 10, by = 0.1)\n",
    "s <- 10*runif(15)\n",
    "ss <- 10*runif(15)\n",
    "\n",
    "plot(x,x, type = \"n\", axes = \"F\")\n",
    "# points(s, ss, col = \"red\", pch = \"\\uf005\", family = \"A\", cex = 1.2)\n",
    "mtext(\"Graficos con R\",adj = 0.4, side = 3, family = \"B\", col = \"#212121\", cex = 2.5, line = -4)\n",
    "text(9,9,\"\\UE3E1\", family = \"A\", cex = 5, col = \"#212121\")\n",
    "text(5,5,\"\\ue62e\", family = \"A\", cex = 14, col = \"#81D4FA\")\n",
    "\n",
    "rect(0,0,25,3,col=\"#1A237E75\", border=NA)\n",
    "rect(0,3,25,6,col=\"#1A237E85\", border=NA)\n",
    "rect(0,6,25,18,col=\"#1A237E95\", border=NA)\n",
    "#rect(0,0,18,1,col=\"#1A237E\", border=NA)\n",
    "rect(0,0,1.5,18,col=\"#1A237E\", border=NA)\n",
    "\n",
    "\n",
    "text(x[10],x[4],\"\\uf135\", family = \"A\", cex = 3, col = \"#212121\")\n",
    "\n",
    "mtext(\"Daniel Rojas Sánchez\",adj = 0.9, side = 1, family = \"sans\", col = \"#212121\", cex = 1.25, line = -2)\n",
    "\n",
    "grid(col = \"#EDE7F640\")"
   ]
  },
  {
   "cell_type": "code",
   "execution_count": 3,
   "id": "ce59f573-fabc-4f91-aa34-737b7a23d98a",
   "metadata": {},
   "outputs": [
    {
     "name": "stderr",
     "output_type": "stream",
     "text": [
      "Your code contains a unicode char which cannot be displayed in your\n",
      "current locale and R will silently convert it to an escaped form when the\n",
      "R kernel executes this code. This can lead to subtle errors if you use\n",
      "such chars to do comparisons. For more information, please see\n",
      "https://github.com/IRkernel/repr/wiki/Problems-with-unicode-on-windows"
     ]
    },
    {
     "name": "stdout",
     "output_type": "stream",
     "text": [
      "[1] \"<U+FC64>\"\n"
     ]
    }
   ],
   "source": [
    "print(\"ﱤ\")"
   ]
  },
  {
   "cell_type": "code",
   "execution_count": 4,
   "id": "f7acfacf-0365-47de-8a02-4d9457e76847",
   "metadata": {},
   "outputs": [
    {
     "data": {
      "image/png": "[encoded data removed]",
      "text/plain": [
       "plot without title"
      ]
     },
     "metadata": {
      "filenames": {
       "image/png": "C:\\Users\\Usuario\\Desktop\\Github\\50-Ejemplos-Graficos-con-R\\_build\\jupyter_execute\\Parte3_4_0.png"
      },
      "image/png": {
       "height": 420,
       "width": 300
      }
     },
     "output_type": "display_data"
    }
   ],
   "source": [
    "plot(x, exp(x))"
   ]
  },
  {
   "cell_type": "code",
   "execution_count": 5,
   "id": "c8f0e07a-fe31-425a-a842-8455b685125c",
   "metadata": {},
   "outputs": [
    {
     "data": {
      "text/html": [
       "20.0855369231877"
      ],
      "text/latex": [
       "20.0855369231877"
      ],
      "text/markdown": [
       "20.0855369231877"
      ],
      "text/plain": [
       "[1] 20.08554"
      ]
     },
     "metadata": {},
     "output_type": "display_data"
    }
   ],
   "source": [
    "exp(3)"
   ]
  },
  {
   "cell_type": "code",
   "execution_count": null,
   "id": "3f40c0fe-b4f6-44d0-8958-fae25a4772cc",
   "metadata": {},
   "outputs": [],
   "source": []
  }
 ],
 "metadata": {
  "kernelspec": {
   "display_name": "R",
   "language": "R",
   "name": "ir"
  },
  "language_info": {
   "codemirror_mode": "r",
   "file_extension": ".r",
   "mimetype": "text/x-r-source",
   "name": "R",
   "pygments_lexer": "r",
   "version": "4.1.3"
  }
 },
 "nbformat": 4,
 "nbformat_minor": 5
}